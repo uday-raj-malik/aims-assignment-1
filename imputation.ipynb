{
 "cells": [
  {
   "cell_type": "code",
   "execution_count": 1,
   "id": "7b94c864-0c93-4fb8-a5b9-ae78ce98f5ed",
   "metadata": {},
   "outputs": [],
   "source": [
    "import pandas as pd\n",
    "import numpy as np"
   ]
  },
  {
   "cell_type": "code",
   "execution_count": 2,
   "id": "ddd4564d-a075-439d-aef5-25fe66f035d8",
   "metadata": {},
   "outputs": [],
   "source": [
    "dict = {'Bed':[1,2,np.nan,2,3,np.nan,1,4,2,np.nan],\n",
    "        'Bath':[1,1,2,1,1,1,2,1,2,1]}\n",
    "        "
   ]
  },
  {
   "cell_type": "code",
   "execution_count": 3,
   "id": "e66a6706-fe5a-4fd5-8580-89a707a90a03",
   "metadata": {},
   "outputs": [],
   "source": [
    "Data = pd.DataFrame(dict)"
   ]
  },
  {
   "cell_type": "code",
   "execution_count": null,
   "id": "c9d985d4-e64d-495b-af57-c44c7c6d993d",
   "metadata": {},
   "outputs": [],
   "source": [
    "choice = int(input(\"\"\"Type the integer for the option you want to choose:\n",
    "1. Drop the columns with missing values\n",
    "2. Impute the missing values with the mean of available values\n",
    "3. Same as 2 but lets the model know which values were imputed\n",
    "\"\"\"))\n",
    "if choice == 1:\n",
    "   cols_with_missing_values = [cols for cols in Data.columns if Data[cols].isnull().any()]\n",
    "   Data_reduced = Data.drop(cols_with_missing_values,axis=1)\n",
    "    \n",
    "if choice == 2:\n",
    "    imp_data = Data.copy()\n",
    "    for column in imp_data.columns:\n",
    "        values = [i for i in imp_data[column] if not pd.isnull(i)]\n",
    "        mean = sum(values)/len(values)\n",
    "        imp_data[column] = [mean if pd.isnull(i) else i for i in imp_data[column]]\n",
    "\n",
    "if choice == 3:\n",
    "    imp_data_1 = Data.copy()\n",
    "    cols_with_missing_values = [cols for cols in Data.columns if Data[cols].isnull().any()]\n",
    "    for col in cols_with_missing_values:\n",
    "        imp_data_1[col + '_was_missing'] = [True if pd.isnull(i) else False for i in imp_data_1[col]]\n",
    "    for column in imp_data_1.columns:\n",
    "        values = [i for i in imp_data_1[column] if not pd.isnull(i)]\n",
    "        mean = sum(values)/len(values)\n",
    "        imp_data_1[column] = [mean if pd.isnull(i) else i for i in imp_data_1[column]]\n",
    "\n",
    "    \n",
    "\n",
    "\n",
    "\n",
    "\n",
    "               "
   ]
  },
  {
   "cell_type": "code",
   "execution_count": null,
   "id": "d50398af-f252-4473-97f5-d19f55eb2478",
   "metadata": {},
   "outputs": [],
   "source": [
    "\n"
   ]
  },
  {
   "cell_type": "code",
   "execution_count": null,
   "id": "f5020353-c8f1-4176-81e9-b01757730c65",
   "metadata": {},
   "outputs": [],
   "source": []
  },
  {
   "cell_type": "code",
   "execution_count": null,
   "id": "0792720c-f7fe-4b63-8a27-89cdcc789ec3",
   "metadata": {},
   "outputs": [],
   "source": []
  }
 ],
 "metadata": {
  "kernelspec": {
   "display_name": "Python 3 (ipykernel)",
   "language": "python",
   "name": "python3"
  },
  "language_info": {
   "codemirror_mode": {
    "name": "ipython",
    "version": 3
   },
   "file_extension": ".py",
   "mimetype": "text/x-python",
   "name": "python",
   "nbconvert_exporter": "python",
   "pygments_lexer": "ipython3",
   "version": "3.13.7"
  }
 },
 "nbformat": 4,
 "nbformat_minor": 5
}
